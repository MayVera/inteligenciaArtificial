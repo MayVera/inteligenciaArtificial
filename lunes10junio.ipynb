{
  "nbformat": 4,
  "nbformat_minor": 0,
  "metadata": {
    "colab": {
      "provenance": [],
      "authorship_tag": "ABX9TyOpD4LbpvHvAPXcU1rlLIXe",
      "include_colab_link": true
    },
    "kernelspec": {
      "name": "python3",
      "display_name": "Python 3"
    },
    "language_info": {
      "name": "python"
    }
  },
  "cells": [
    {
      "cell_type": "markdown",
      "metadata": {
        "id": "view-in-github",
        "colab_type": "text"
      },
      "source": [
        "<a href=\"https://colab.research.google.com/github/MayVera/inteligenciaArtificial/blob/main/lunes10junio.ipynb\" target=\"_parent\"><img src=\"https://colab.research.google.com/assets/colab-badge.svg\" alt=\"Open In Colab\"/></a>"
      ]
    },
    {
      "cell_type": "code",
      "execution_count": null,
      "metadata": {
        "colab": {
          "base_uri": "https://localhost:8080/"
        },
        "id": "zuyMHZu7-86N",
        "outputId": "b37eb915-cd12-46aa-fa38-02e6a60c4b42"
      },
      "outputs": [
        {
          "output_type": "stream",
          "name": "stdout",
          "text": [
            "Python 3.10.12\n"
          ]
        }
      ],
      "source": [
        "!python --version\n"
      ]
    },
    {
      "cell_type": "code",
      "source": [
        "#TUESDAY 24 JUNE 2024\n",
        "tmp=list()\n",
        "tmp.append(2)\n",
        "print(tmp)\n",
        "tmp.append('may')\n",
        "print(tmp)\n",
        "tmp.append('ale')\n",
        "print(tmp)\n",
        "#print(tmp[3])\n",
        "#aux.capitalize()\n",
        "#print(aux)\n",
        "#print(aux.upper())\n",
        "\n",
        "tmp1='hello'\n",
        "print(tmp1.capitalize())\n",
        "\n",
        "aux1=[1,2,3,4,5,6,7,8,9,10]\n",
        "print(aux1)\n",
        "\n",
        "aux1[4]=10\n",
        "print(aux1)\n",
        "\n",
        "print(aux1[-1])\n",
        "print(aux1[3:7])\n",
        "print(aux1[0:5])\n",
        "print(aux1[:5])\n",
        "\n",
        "aux2=list()\n",
        "for i in range(100):\n",
        "  aux2.append(i)\n",
        "print(aux2[:20])\n",
        "\n",
        "aux3=list()\n",
        "for i in aux2:\n",
        "  print(i)\n"
      ],
      "metadata": {
        "colab": {
          "base_uri": "https://localhost:8080/"
        },
        "id": "0IRw_1s2mBwZ",
        "outputId": "b7884eac-8198-49fc-b303-d5054673a37b"
      },
      "execution_count": 7,
      "outputs": [
        {
          "output_type": "stream",
          "name": "stdout",
          "text": [
            "[2]\n",
            "[2, 'may']\n",
            "[2, 'may', 'ale']\n",
            "Hello\n",
            "[1, 2, 3, 4, 5, 6, 7, 8, 9, 10]\n",
            "[1, 2, 3, 4, 10, 6, 7, 8, 9, 10]\n",
            "10\n",
            "[4, 10, 6, 7]\n",
            "[1, 2, 3, 4, 10]\n",
            "[1, 2, 3, 4, 10]\n",
            "[0, 1, 2, 3, 4, 5, 6, 7, 8, 9, 10, 11, 12, 13, 14, 15, 16, 17, 18, 19]\n",
            "0\n",
            "1\n",
            "2\n",
            "3\n",
            "4\n",
            "5\n",
            "6\n",
            "7\n",
            "8\n",
            "9\n",
            "10\n",
            "11\n",
            "12\n",
            "13\n",
            "14\n",
            "15\n",
            "16\n",
            "17\n",
            "18\n",
            "19\n",
            "20\n",
            "21\n",
            "22\n",
            "23\n",
            "24\n",
            "25\n",
            "26\n",
            "27\n",
            "28\n",
            "29\n",
            "30\n",
            "31\n",
            "32\n",
            "33\n",
            "34\n",
            "35\n",
            "36\n",
            "37\n",
            "38\n",
            "39\n",
            "40\n",
            "41\n",
            "42\n",
            "43\n",
            "44\n",
            "45\n",
            "46\n",
            "47\n",
            "48\n",
            "49\n",
            "50\n",
            "51\n",
            "52\n",
            "53\n",
            "54\n",
            "55\n",
            "56\n",
            "57\n",
            "58\n",
            "59\n",
            "60\n",
            "61\n",
            "62\n",
            "63\n",
            "64\n",
            "65\n",
            "66\n",
            "67\n",
            "68\n",
            "69\n",
            "70\n",
            "71\n",
            "72\n",
            "73\n",
            "74\n",
            "75\n",
            "76\n",
            "77\n",
            "78\n",
            "79\n",
            "80\n",
            "81\n",
            "82\n",
            "83\n",
            "84\n",
            "85\n",
            "86\n",
            "87\n",
            "88\n",
            "89\n",
            "90\n",
            "91\n",
            "92\n",
            "93\n",
            "94\n",
            "95\n",
            "96\n",
            "97\n",
            "98\n",
            "99\n"
          ]
        }
      ]
    }
  ]
}