{
  "nbformat": 4,
  "nbformat_minor": 0,
  "metadata": {
    "colab": {
      "provenance": [],
      "authorship_tag": "ABX9TyOKjt5XqyRlVALKFTpY4g9x",
      "include_colab_link": true
    },
    "kernelspec": {
      "name": "python3",
      "display_name": "Python 3"
    },
    "language_info": {
      "name": "python"
    }
  },
  "cells": [
    {
      "cell_type": "markdown",
      "metadata": {
        "id": "view-in-github",
        "colab_type": "text"
      },
      "source": [
        "<a href=\"https://colab.research.google.com/github/MayVera/inteligenciaArtificial/blob/main/lunes10junio.ipynb\" target=\"_parent\"><img src=\"https://colab.research.google.com/assets/colab-badge.svg\" alt=\"Open In Colab\"/></a>"
      ]
    },
    {
      "cell_type": "code",
      "execution_count": null,
      "metadata": {
        "colab": {
          "base_uri": "https://localhost:8080/"
        },
        "id": "zuyMHZu7-86N",
        "outputId": "b37eb915-cd12-46aa-fa38-02e6a60c4b42"
      },
      "outputs": [
        {
          "output_type": "stream",
          "name": "stdout",
          "text": [
            "Python 3.10.12\n"
          ]
        }
      ],
      "source": [
        "!python --version\n"
      ]
    },
    {
      "cell_type": "code",
      "source": [
        "#TUESDAY 24 JUNE 2024\n",
        "tmp=list()\n",
        "tmp.append(2)\n",
        "print(tmp)\n",
        "tmp.append('may')\n",
        "print(tmp)\n",
        "tmp.append('ale')\n",
        "print(tmp)\n",
        "#print(tmp[3])\n",
        "#aux.capitalize()\n",
        "#print(aux)\n",
        "#print(aux.upper())\n",
        "\n",
        "tmp1='hello'\n",
        "print(tmp1.capitalize())\n",
        "\n",
        "aux1=[1,2,3,4,5,6,7,8,9,10]\n",
        "print(aux1)\n",
        "\n",
        "aux1[4]=10\n",
        "print(aux1)\n",
        "\n",
        "print(aux1[-1])\n",
        "print(aux1[3:7])\n",
        "print(aux1[0:5])\n",
        "print(aux1[:5])"
      ],
      "metadata": {
        "id": "0IRw_1s2mBwZ",
        "outputId": "faaaa749-ac48-47bd-c83c-c6374ef21710",
        "colab": {
          "base_uri": "https://localhost:8080/"
        }
      },
      "execution_count": 5,
      "outputs": [
        {
          "output_type": "stream",
          "name": "stdout",
          "text": [
            "[2]\n",
            "[2, 'may']\n",
            "[2, 'may', 'ale']\n",
            "Hello\n",
            "[1, 2, 3, 4, 5, 6, 7, 8, 9, 10]\n",
            "[1, 2, 3, 4, 10, 6, 7, 8, 9, 10]\n",
            "10\n",
            "[4, 10, 6, 7]\n",
            "[1, 2, 3, 4, 10]\n",
            "[1, 2, 3, 4, 10]\n"
          ]
        }
      ]
    }
  ]
}