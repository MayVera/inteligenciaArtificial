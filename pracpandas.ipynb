{
  "nbformat": 4,
  "nbformat_minor": 0,
  "metadata": {
    "colab": {
      "provenance": [],
      "authorship_tag": "ABX9TyPeb/GI6LKBKMz8D2V+o+lx",
      "include_colab_link": true
    },
    "kernelspec": {
      "name": "python3",
      "display_name": "Python 3"
    },
    "language_info": {
      "name": "python"
    }
  },
  "cells": [
    {
      "cell_type": "markdown",
      "metadata": {
        "id": "view-in-github",
        "colab_type": "text"
      },
      "source": [
        "<a href=\"https://colab.research.google.com/github/MayVera/inteligenciaArtificial/blob/main/pracpandas.ipynb\" target=\"_parent\"><img src=\"https://colab.research.google.com/assets/colab-badge.svg\" alt=\"Open In Colab\"/></a>"
      ]
    },
    {
      "cell_type": "code",
      "execution_count": 1,
      "metadata": {
        "colab": {
          "base_uri": "https://localhost:8080/"
        },
        "id": "iCPahDHSyFAr",
        "outputId": "5ef9fb3a-b9b6-4578-9a68-d71a47f64b87"
      },
      "outputs": [
        {
          "output_type": "stream",
          "name": "stdout",
          "text": [
            "2.0.3\n"
          ]
        }
      ],
      "source": [
        "import numpy as pd\n",
        "\n",
        "import pandas as pd\n",
        "\n",
        "print(pd.__version__)"
      ]
    },
    {
      "cell_type": "code",
      "source": [
        "serieData=pd.Series(data=[100,200,300],index=['Juan', 'Pedro','Lucas'])\n",
        "print(serieData)\n",
        "print('/////')\n",
        "print(serieData['Juan'])\n",
        "\n",
        "print(serieData.index)\n",
        "print('Pedro' in serieData)\n",
        "\n"
      ],
      "metadata": {
        "colab": {
          "base_uri": "https://localhost:8080/"
        },
        "id": "hvQSt5hQzX49",
        "outputId": "bff14f19-3295-4853-cac7-816042f4aba5"
      },
      "execution_count": 7,
      "outputs": [
        {
          "output_type": "stream",
          "name": "stdout",
          "text": [
            "Juan     100\n",
            "Pedro    200\n",
            "Lucas    300\n",
            "dtype: int64\n",
            "/////\n",
            "100\n",
            "Index(['Juan', 'Pedro', 'Lucas'], dtype='object')\n",
            "True\n"
          ]
        }
      ]
    },
    {
      "cell_type": "code",
      "source": [
        "myDictionary={'one':pd.Series([100,200,300],index=['Juan','Pedro','Lucas']),'two':pd.Series([11,22,33],index=['Julio','Pedro','Lucas',])}\n",
        "#series and dataframe\n",
        "\n",
        "df=pd.DataFrame(myDictionary)\n",
        "print(df)\n",
        "\n",
        "print('we are here ........')\n",
        "print(df.index)\n",
        "print(df.columns)\n"
      ],
      "metadata": {
        "colab": {
          "base_uri": "https://localhost:8080/"
        },
        "id": "ttyqwH4l1HNe",
        "outputId": "79dea711-7014-4d3c-8a1d-1802fa0f5362"
      },
      "execution_count": 12,
      "outputs": [
        {
          "output_type": "stream",
          "name": "stdout",
          "text": [
            "         one   two\n",
            "Juan   100.0   NaN\n",
            "Julio    NaN  11.0\n",
            "Lucas  300.0  33.0\n",
            "Pedro  200.0  22.0\n",
            "we are here ........\n",
            "Index(['Juan', 'Julio', 'Lucas', 'Pedro'], dtype='object')\n",
            "Index(['one', 'two'], dtype='object')\n"
          ]
        }
      ]
    }
  ]
}