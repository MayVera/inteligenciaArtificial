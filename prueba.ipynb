{
  "nbformat": 4,
  "nbformat_minor": 0,
  "metadata": {
    "colab": {
      "provenance": [],
      "authorship_tag": "ABX9TyNV+rvKUUtqJsA4XwxJpkYb",
      "include_colab_link": true
    },
    "kernelspec": {
      "name": "python3",
      "display_name": "Python 3"
    },
    "language_info": {
      "name": "python"
    }
  },
  "cells": [
    {
      "cell_type": "markdown",
      "metadata": {
        "id": "view-in-github",
        "colab_type": "text"
      },
      "source": [
        "<a href=\"https://colab.research.google.com/github/MayVera/inteligenciaArtificial/blob/main/prueba.ipynb\" target=\"_parent\"><img src=\"https://colab.research.google.com/assets/colab-badge.svg\" alt=\"Open In Colab\"/></a>"
      ]
    },
    {
      "cell_type": "code",
      "execution_count": 1,
      "metadata": {
        "id": "pGTHd218NFM6"
      },
      "outputs": [],
      "source": [
        "import numpy as np"
      ]
    },
    {
      "cell_type": "code",
      "source": [
        "a = np.array([1, 2, 3]) #se crean los dos arreglos\n",
        "b = np.array([4, 5, 6])\n",
        "stacked_arrays = np.vstack((a, b)) #se crea la funcion np.vstack para que sea vertical\n",
        "print(stacked_arrays)"
      ],
      "metadata": {
        "colab": {
          "base_uri": "https://localhost:8080/"
        },
        "id": "Ld-_aXqTNq6m",
        "outputId": "af134199-2504-4108-ceff-9783f298d79b"
      },
      "execution_count": 3,
      "outputs": [
        {
          "output_type": "stream",
          "name": "stdout",
          "text": [
            "[[1 2 3]\n",
            " [4 5 6]]\n"
          ]
        }
      ]
    },
    {
      "cell_type": "code",
      "source": [
        "a = np.array([1, 2, 3])\n",
        "b = np.array([4, 5, 6])\n",
        "stacked_arrays = np.hstack((a, b)) #se crea el np.hstack para que sea horizontal\n",
        "print(stacked_arrays)"
      ],
      "metadata": {
        "colab": {
          "base_uri": "https://localhost:8080/"
        },
        "id": "jjnS4H2oOusg",
        "outputId": "62c0ab1a-38b8-4411-ff42-46eeb65af32d"
      },
      "execution_count": 4,
      "outputs": [
        {
          "output_type": "stream",
          "name": "stdout",
          "text": [
            "[1 2 3 4 5 6]\n"
          ]
        }
      ]
    },
    {
      "cell_type": "code",
      "source": [
        "tmp = np.arange(15) # Crear el array tmp usando arange\n",
        "result = tmp[(tmp >= 5) & (tmp <= 10)] #Obtener todos los elementos entre 5 y 10\n",
        "print(result) #Mostrar el resultado\n"
      ],
      "metadata": {
        "colab": {
          "base_uri": "https://localhost:8080/"
        },
        "id": "l8Y5Ixz6PB_-",
        "outputId": "6b34d6cc-5d5a-462f-fba8-6932fdbe391a"
      },
      "execution_count": 6,
      "outputs": [
        {
          "output_type": "stream",
          "name": "stdout",
          "text": [
            "[ 5  6  7  8  9 10]\n"
          ]
        }
      ]
    },
    {
      "cell_type": "code",
      "source": [
        "def pair_max(a, b): #Esta función toma como parámetros dos arrays\n",
        "    return np.maximum(a, b) # Calcula el máximo elemento a nivel de elementos entre los arrays a y b.\n",
        "\n",
        "# Definir matrices con la misma forma fuera de la función.\n",
        "a = np.array([5, 7, 9, 8, 6, 4, 5])\n",
        "b = np.array([6, 3, 4, 8, 9, 7, 1])\n",
        "resultado = pair_max(a, b) #para calcular el máximo elemento a nivel de elementos entre a y b.\n",
        "print(resultado)"
      ],
      "metadata": {
        "colab": {
          "base_uri": "https://localhost:8080/"
        },
        "id": "ZUxvvXdYQcFX",
        "outputId": "c90c1528-1ab8-4686-84f9-da0a3a572f84"
      },
      "execution_count": 10,
      "outputs": [
        {
          "output_type": "stream",
          "name": "stdout",
          "text": [
            "[6 7 9 8 9 7 5]\n"
          ]
        }
      ]
    },
    {
      "cell_type": "code",
      "source": [
        "def maxx(x, y): #maxx es el nombre de la función\n",
        "    if x <= y: #compr si x es menor o = q y\n",
        "        return y\n",
        "    else:\n",
        "        return x\n",
        "resultado = maxx(2, 8) # calcula el máximo entre dos números enteros\n",
        "print(resultado)"
      ],
      "metadata": {
        "colab": {
          "base_uri": "https://localhost:8080/"
        },
        "id": "TGdOXir7Sgi_",
        "outputId": "8b7a1b23-2492-4127-9d39-488ae7f0cebf"
      },
      "execution_count": 12,
      "outputs": [
        {
          "output_type": "stream",
          "name": "stdout",
          "text": [
            "8\n"
          ]
        }
      ]
    },
    {
      "cell_type": "code",
      "source": [],
      "metadata": {
        "id": "fz9XnECzU_U-"
      },
      "execution_count": null,
      "outputs": []
    }
  ]
}