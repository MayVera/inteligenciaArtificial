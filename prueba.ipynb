{
  "nbformat": 4,
  "nbformat_minor": 0,
  "metadata": {
    "colab": {
      "provenance": [],
      "authorship_tag": "ABX9TyNi3nfmNrcXzYIF2t3CKqat",
      "include_colab_link": true
    },
    "kernelspec": {
      "name": "python3",
      "display_name": "Python 3"
    },
    "language_info": {
      "name": "python"
    }
  },
  "cells": [
    {
      "cell_type": "markdown",
      "metadata": {
        "id": "view-in-github",
        "colab_type": "text"
      },
      "source": [
        "<a href=\"https://colab.research.google.com/github/MayVera/inteligenciaArtificial/blob/main/prueba.ipynb\" target=\"_parent\"><img src=\"https://colab.research.google.com/assets/colab-badge.svg\" alt=\"Open In Colab\"/></a>"
      ]
    },
    {
      "cell_type": "code",
      "execution_count": 2,
      "metadata": {
        "id": "pGTHd218NFM6"
      },
      "outputs": [],
      "source": [
        "import numpy as np"
      ]
    },
    {
      "cell_type": "code",
      "source": [
        "a = np.array([1, 2, 3]) #se crean los dos arreglos\n",
        "b = np.array([4, 5, 6])\n",
        "stacked_arrays = np.vstack((a, b)) #se crea la funcion np.vstack para que sea vertical\n",
        "print(stacked_arrays)"
      ],
      "metadata": {
        "colab": {
          "base_uri": "https://localhost:8080/"
        },
        "id": "Ld-_aXqTNq6m",
        "outputId": "c49a2656-f3e6-4965-fc96-150408c5f194"
      },
      "execution_count": 3,
      "outputs": [
        {
          "output_type": "stream",
          "name": "stdout",
          "text": [
            "[[1 2 3]\n",
            " [4 5 6]]\n"
          ]
        }
      ]
    },
    {
      "cell_type": "code",
      "source": [
        "a = np.array([1, 2, 3])\n",
        "b = np.array([4, 5, 6])\n",
        "stacked_arrays = np.hstack((a, b)) #se crea el np.hstack para que sea horizontal\n",
        "print(stacked_arrays)"
      ],
      "metadata": {
        "colab": {
          "base_uri": "https://localhost:8080/"
        },
        "id": "jjnS4H2oOusg",
        "outputId": "74dfce0e-d4e7-4000-d8f8-9adeed7bcb89"
      },
      "execution_count": 4,
      "outputs": [
        {
          "output_type": "stream",
          "name": "stdout",
          "text": [
            "[1 2 3 4 5 6]\n"
          ]
        }
      ]
    },
    {
      "cell_type": "code",
      "source": [
        "tmp = np.arange(15) # Crear el array tmp usando arange\n",
        "result = tmp[(tmp >= 5) & (tmp <= 10)] #Obtener todos los elementos entre 5 y 10\n",
        "print(result) #Mostrar el resultado\n"
      ],
      "metadata": {
        "colab": {
          "base_uri": "https://localhost:8080/"
        },
        "id": "l8Y5Ixz6PB_-",
        "outputId": "e9ffb44c-ead8-40cf-8c56-e502a83dab6a"
      },
      "execution_count": 5,
      "outputs": [
        {
          "output_type": "stream",
          "name": "stdout",
          "text": [
            "[ 5  6  7  8  9 10]\n"
          ]
        }
      ]
    },
    {
      "cell_type": "code",
      "source": [
        "def pair_max(a, b): #Esta función toma como parámetros dos arrays\n",
        "    return np.maximum(a, b) # Calcula el máximo elemento a nivel de elementos entre los arrays a y b.\n",
        "\n",
        "# Definir matrices con la misma forma fuera de la función.\n",
        "a = np.array([5, 7, 9, 8, 6, 4, 5])\n",
        "b = np.array([6, 3, 4, 8, 9, 7, 1])\n",
        "resultado = pair_max(a, b) #para calcular el máximo elemento a nivel de elementos entre a y b.\n",
        "print(resultado)"
      ],
      "metadata": {
        "colab": {
          "base_uri": "https://localhost:8080/"
        },
        "id": "ZUxvvXdYQcFX",
        "outputId": "ee52ca08-1536-4fbe-98b5-cb5a2d873cf4"
      },
      "execution_count": 6,
      "outputs": [
        {
          "output_type": "stream",
          "name": "stdout",
          "text": [
            "[6 7 9 8 9 7 5]\n"
          ]
        }
      ]
    },
    {
      "cell_type": "code",
      "source": [
        "def maxx(x, y): #maxx es el nombre de la función\n",
        "    if x <= y: #compr si x es menor o = q y\n",
        "        return y\n",
        "    else:\n",
        "        return x\n",
        "resultado = maxx(2, 8) # calcula el máximo entre dos números enteros\n",
        "print(resultado)"
      ],
      "metadata": {
        "colab": {
          "base_uri": "https://localhost:8080/"
        },
        "id": "TGdOXir7Sgi_",
        "outputId": "f38d07e2-f7bb-4bcf-b848-e5de138e532b"
      },
      "execution_count": 7,
      "outputs": [
        {
          "output_type": "stream",
          "name": "stdout",
          "text": [
            "8\n"
          ]
        }
      ]
    },
    {
      "cell_type": "code",
      "source": [
        "matriz_1d = np.array([0, 1, 2, 3, 4, 5, 6, 7, 8, 9])\n",
        "print(matriz_1d)"
      ],
      "metadata": {
        "id": "fz9XnECzU_U-",
        "colab": {
          "base_uri": "https://localhost:8080/"
        },
        "outputId": "9d05e228-51d6-41c9-b50c-473a35fbe885"
      },
      "execution_count": 8,
      "outputs": [
        {
          "output_type": "stream",
          "name": "stdout",
          "text": [
            "[0 1 2 3 4 5 6 7 8 9]\n"
          ]
        }
      ]
    },
    {
      "cell_type": "code",
      "source": [
        "#Create random vector of size 10 and replace the maximum value by 0\n",
        "random_vector = np.random.rand(10)\n",
        "max_index = random_vector.argmax()\n",
        "random_vector[max_index] = 0\n",
        "\n",
        "print(random_vector)"
      ],
      "metadata": {
        "colab": {
          "base_uri": "https://localhost:8080/"
        },
        "id": "wc6ka0fic1Y3",
        "outputId": "fdc6e4a6-a816-4afb-fc5f-b7e48d30e6a8"
      },
      "execution_count": 10,
      "outputs": [
        {
          "output_type": "stream",
          "name": "stdout",
          "text": [
            "[0.85421252 0.55855538 0.00984668 0.68046991 0.10413109 0.\n",
            " 0.66707373 0.0652542  0.23463405 0.13522388]\n"
          ]
        }
      ]
    },
    {
      "cell_type": "code",
      "source": [
        "# Print the number 8 from the array below:\n",
        "# arr = np.array([[1,2,3,4,5], [6,7,8,9,10]])\n",
        "arr=np.array([[1,2,3,4,5], [6,7,8,9,10]])\n",
        "print(arr[1, 2])\n",
        "#Se encuentra en la segunda fila (índice 1) y la tercera columna (índice 2)"
      ],
      "metadata": {
        "colab": {
          "base_uri": "https://localhost:8080/"
        },
        "id": "wga7CbX9c6tY",
        "outputId": "946cdb1d-42cf-4860-8a37-628e1254f3a8"
      },
      "execution_count": 12,
      "outputs": [
        {
          "output_type": "stream",
          "name": "stdout",
          "text": [
            "8\n"
          ]
        }
      ]
    },
    {
      "cell_type": "code",
      "source": [
        "# Print the numbers [3, 4, 5] from the array below:\n",
        "# arr = np.array([1,2,3,4,5,6,7])\n",
        "arr=np.array([1,2,3,4,5,6,7])\n",
        "print(arr[2:5])"
      ],
      "metadata": {
        "colab": {
          "base_uri": "https://localhost:8080/"
        },
        "id": "V7G5MPwwdCYn",
        "outputId": "83694500-9cf7-41ef-b35b-e31560918647"
      },
      "execution_count": 13,
      "outputs": [
        {
          "output_type": "stream",
          "name": "stdout",
          "text": [
            "[3 4 5]\n"
          ]
        }
      ]
    },
    {
      "cell_type": "code",
      "source": [
        "# Print the last 4 numbers from the array below:\n",
        "# arr = np.array([1,2,3,4,5,6,7])\n",
        "arr=np.array([1,2,3,4,5,6,7])\n",
        "ultimos_4_numeros = arr[-4:]\n",
        "\n",
        "print(ultimos_4_numeros)\n",
        "#slicing"
      ],
      "metadata": {
        "colab": {
          "base_uri": "https://localhost:8080/"
        },
        "id": "BCjAmQnVdRTv",
        "outputId": "e616c486-ffba-4aea-a517-8ce585cb1a2c"
      },
      "execution_count": 14,
      "outputs": [
        {
          "output_type": "stream",
          "name": "stdout",
          "text": [
            "[4 5 6 7]\n"
          ]
        }
      ]
    },
    {
      "cell_type": "code",
      "source": [
        "# Create a 3×3 numpy array of all True’s\n",
        "# your code here\n",
        "array_of_trues = np.ones((3, 3), dtype=bool)\n",
        "array_of_trues = np.full((3, 3), True)\n",
        "print(array_of_trues)"
      ],
      "metadata": {
        "colab": {
          "base_uri": "https://localhost:8080/"
        },
        "id": "M3qox2AOdTU_",
        "outputId": "5ebc2af0-727e-4a6a-e2d4-174d47f78b1e"
      },
      "execution_count": 15,
      "outputs": [
        {
          "output_type": "stream",
          "name": "stdout",
          "text": [
            "[[ True  True  True]\n",
            " [ True  True  True]\n",
            " [ True  True  True]]\n"
          ]
        }
      ]
    },
    {
      "cell_type": "code",
      "source": [
        "# Extract all odd numbers from arr\n",
        "\n",
        "# Crear una matriz 3x3 de números enteros entre 0 y 9\n",
        "matriz = np.random.randint(0, 10, (3, 3))\n",
        "\n",
        "print(\"Matriz original:\")\n",
        "print(matriz)\n",
        "\n",
        "# Encontrar los números impares\n",
        "numeros_impares = matriz[matriz % 2 != 0]\n",
        "\n",
        "print(\"\\nNúmeros impares:\")\n",
        "print(numeros_impares)"
      ],
      "metadata": {
        "colab": {
          "base_uri": "https://localhost:8080/"
        },
        "id": "MIyGKmGIdWjN",
        "outputId": "b46189fd-9163-49cb-b16a-8f0caf3be3ca"
      },
      "execution_count": 16,
      "outputs": [
        {
          "output_type": "stream",
          "name": "stdout",
          "text": [
            "Matriz original:\n",
            "[[9 4 1]\n",
            " [4 6 0]\n",
            " [3 7 7]]\n",
            "\n",
            "Números impares:\n",
            "[9 1 3 7 7]\n"
          ]
        }
      ]
    },
    {
      "cell_type": "code",
      "source": [
        "# Create a vector with values ranging from 10 to 49 (★☆☆)\n",
        "vector = np.arange(10, 49)\n",
        "print(vector)"
      ],
      "metadata": {
        "colab": {
          "base_uri": "https://localhost:8080/"
        },
        "id": "8PzH-ZxadcnP",
        "outputId": "203978ab-9de4-409f-b8c0-4d0b1e6a16ba"
      },
      "execution_count": 17,
      "outputs": [
        {
          "output_type": "stream",
          "name": "stdout",
          "text": [
            "[10 11 12 13 14 15 16 17 18 19 20 21 22 23 24 25 26 27 28 29 30 31 32 33\n",
            " 34 35 36 37 38 39 40 41 42 43 44 45 46 47 48]\n"
          ]
        }
      ]
    },
    {
      "cell_type": "code",
      "source": [
        "# Reverse a vector (first element becomes last)\n",
        "vector = np.array([1, 2, 3, 4, 5])\n",
        "\n",
        "print(\"Vector original:\")\n",
        "print(vector)\n",
        "\n",
        "# Mover el último valor al primer lugar\n",
        "vector = np.roll(vector, 1)\n",
        "\n",
        "print(\"\\nVector con el último valor como el primero:\")\n",
        "print(vector)"
      ],
      "metadata": {
        "colab": {
          "base_uri": "https://localhost:8080/"
        },
        "id": "fW81VjK3dfKR",
        "outputId": "14848866-4cb8-4ec9-c9b6-72201b2f73e1"
      },
      "execution_count": 18,
      "outputs": [
        {
          "output_type": "stream",
          "name": "stdout",
          "text": [
            "Vector original:\n",
            "[1 2 3 4 5]\n",
            "\n",
            "Vector con el último valor como el primero:\n",
            "[5 1 2 3 4]\n"
          ]
        }
      ]
    },
    {
      "cell_type": "code",
      "source": [
        "#  Create a 10x10 array with random integer values and find the minimum and maximum values\n",
        "matriz = np.random.randint(59, 100, (10, 10))\n",
        "\n",
        "print(\"Matriz:\")\n",
        "print(matriz)\n",
        "print(matriz.max())\n",
        "print(matriz.min())"
      ],
      "metadata": {
        "colab": {
          "base_uri": "https://localhost:8080/"
        },
        "id": "AWdrVOtYdh4k",
        "outputId": "d710f5e0-4ef5-43fd-8d98-d73d3e481ee5"
      },
      "execution_count": 19,
      "outputs": [
        {
          "output_type": "stream",
          "name": "stdout",
          "text": [
            "Matriz:\n",
            "[[66 84 60 76 81 78 75 66 96 96]\n",
            " [62 83 84 69 63 68 61 91 77 69]\n",
            " [74 88 78 66 60 98 84 98 85 69]\n",
            " [82 59 80 85 63 62 64 66 73 85]\n",
            " [87 81 93 79 74 65 75 98 95 76]\n",
            " [80 99 65 81 86 66 95 87 65 85]\n",
            " [61 72 74 69 73 97 87 96 82 98]\n",
            " [83 79 68 82 71 89 96 89 73 66]\n",
            " [98 91 61 59 77 88 98 73 61 67]\n",
            " [71 75 81 80 89 67 67 80 70 73]]\n",
            "99\n",
            "59\n"
          ]
        }
      ]
    },
    {
      "cell_type": "code",
      "source": [
        "# Create a 3x3x3 array with random values\n",
        "array_with_random_values = np.random.rand(3, 3, 3)\n",
        "print(array_with_random_values)\n"
      ],
      "metadata": {
        "colab": {
          "base_uri": "https://localhost:8080/"
        },
        "id": "5dkcr2v4dkXY",
        "outputId": "10792f33-d9a0-429c-9cae-07ebfb139da0"
      },
      "execution_count": 20,
      "outputs": [
        {
          "output_type": "stream",
          "name": "stdout",
          "text": [
            "[[[0.55765372 0.08119674 0.05312655]\n",
            "  [0.38955681 0.08630802 0.35382898]\n",
            "  [0.98157598 0.9168034  0.596987  ]]\n",
            "\n",
            " [[0.89955976 0.25553087 0.9362715 ]\n",
            "  [0.06879435 0.07164906 0.23127581]\n",
            "  [0.32019982 0.86644343 0.43858252]]\n",
            "\n",
            " [[0.13320689 0.4957561  0.48769932]\n",
            "  [0.8746865  0.28261018 0.19763278]\n",
            "  [0.54870538 0.33394816 0.12573406]]]\n"
          ]
        }
      ]
    },
    {
      "cell_type": "code",
      "source": [
        "# Replace all odd numbers in arr with -1\n",
        "def reemplazar_impares_bucle(arr):\n",
        "\n",
        "  for i in range(len(arr)):\n",
        "    if arr[i] % 2 != 0:\n",
        "      arr[i] = -1\n",
        "  return arr\n",
        "\n",
        "mi_arr = [1, 2, 3, 4, 5]\n",
        "nueva_arr = reemplazar_impares_bucle(mi_arr)\n",
        "print(nueva_arr)"
      ],
      "metadata": {
        "colab": {
          "base_uri": "https://localhost:8080/"
        },
        "id": "6Jr4p2bAdojz",
        "outputId": "22c7895b-3d14-4983-ce3b-013979e62850"
      },
      "execution_count": 21,
      "outputs": [
        {
          "output_type": "stream",
          "name": "stdout",
          "text": [
            "[-1, 2, -1, 4, -1]\n"
          ]
        }
      ]
    },
    {
      "cell_type": "code",
      "source": [
        "# Create an array of type float\n",
        "array_float = np.array([1, 2.5, 3, 4.1], dtype=float)\n",
        "\n",
        "array_float = np.empty(4, dtype=float)\n",
        "array_float[:] = [1, 2.5, 3, 4.1]\n",
        "\n",
        "print(array_float)"
      ],
      "metadata": {
        "colab": {
          "base_uri": "https://localhost:8080/"
        },
        "id": "XztTFkc3drDs",
        "outputId": "e8d86a0c-70d6-477d-f38c-96d163366efd"
      },
      "execution_count": 22,
      "outputs": [
        {
          "output_type": "stream",
          "name": "stdout",
          "text": [
            "[1.  2.5 3.  4.1]\n"
          ]
        }
      ]
    },
    {
      "cell_type": "code",
      "source": [
        "# Convert a 1D array to a 2D array with 2 rows\n",
        "arr = np.array([1, 2, 3, 4, 5, 6])\n",
        "\n",
        "# Reestructurar el array para que tenga 2 filas\n",
        "array_2d = arr.reshape(2, -1)  # -1 infiere el número de columnas\n",
        "\n",
        "print(array_2d)\n"
      ],
      "metadata": {
        "colab": {
          "base_uri": "https://localhost:8080/"
        },
        "id": "lq7evmgwdvla",
        "outputId": "7f6384f4-0295-468e-d8e8-8d9fff4cd3c6"
      },
      "execution_count": 23,
      "outputs": [
        {
          "output_type": "stream",
          "name": "stdout",
          "text": [
            "[[1 2 3]\n",
            " [4 5 6]]\n"
          ]
        }
      ]
    },
    {
      "cell_type": "code",
      "source": [
        "# How to find common values between two arrays?\n",
        "# Z1 = np.random.randint(0,10,10)\n",
        "# Z2 = np.random.randint(0,10,10)\n",
        "\n",
        "\n",
        "# Arrays de ejemplo\n",
        "Z1 = np.random.randint(0, 10, 10)\n",
        "Z2 = np.random.randint(0, 10, 10)\n",
        "\n",
        "# Convertir arrays a conjuntos y encontrar la intersección\n",
        "valores_comunes = set(Z1) & set(Z2)\n",
        "\n",
        "# Convertir el conjunto de nuevo a una lista (opcional)\n",
        "lista_valores_comunes = list(valores_comunes)\n",
        "\n",
        "print(valores_comunes)\n",
        "print(lista_valores_comunes)"
      ],
      "metadata": {
        "colab": {
          "base_uri": "https://localhost:8080/"
        },
        "id": "WTPLPPkodyOW",
        "outputId": "cc1ac9b4-9b68-405d-ebc0-5b27d1850c76"
      },
      "execution_count": 24,
      "outputs": [
        {
          "output_type": "stream",
          "name": "stdout",
          "text": [
            "{0, 5}\n",
            "[0, 5]\n"
          ]
        }
      ]
    },
    {
      "cell_type": "code",
      "source": [
        "#  Consider two random array A and B, check if they are equal\n",
        "# A = np.random.randint(0,2,5)\n",
        "# B = np.random.randint(0,2,5)\n",
        "\n",
        "# Arrays aleatorios de ejemplo\n",
        "A = np.random.randint(0, 2, 5)\n",
        "B = np.random.randint(0, 2, 5)\n",
        "\n",
        "# Verificar si los arrays son iguales elemento a elemento usando all()\n",
        "son_iguales = np.all(A == B)\n",
        "\n",
        "# Imprimir el resultado\n",
        "print(f\"Los arrays son iguales: {son_iguales}\")"
      ],
      "metadata": {
        "colab": {
          "base_uri": "https://localhost:8080/"
        },
        "id": "OP8Cx7VDd2Jg",
        "outputId": "062f1672-84dd-46c0-8caa-230e490ec061"
      },
      "execution_count": 25,
      "outputs": [
        {
          "output_type": "stream",
          "name": "stdout",
          "text": [
            "Los arrays son iguales: False\n"
          ]
        }
      ]
    }
  ]
}