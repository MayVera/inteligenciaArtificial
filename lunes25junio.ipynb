{
  "nbformat": 4,
  "nbformat_minor": 0,
  "metadata": {
    "colab": {
      "provenance": [],
      "authorship_tag": "ABX9TyO9l1eawWhE0wHqA4oHpB7q",
      "include_colab_link": true
    },
    "kernelspec": {
      "name": "python3",
      "display_name": "Python 3"
    },
    "language_info": {
      "name": "python"
    }
  },
  "cells": [
    {
      "cell_type": "markdown",
      "metadata": {
        "id": "view-in-github",
        "colab_type": "text"
      },
      "source": [
        "<a href=\"https://colab.research.google.com/github/MayVera/inteligenciaArtificial/blob/main/lunes25junio.ipynb\" target=\"_parent\"><img src=\"https://colab.research.google.com/assets/colab-badge.svg\" alt=\"Open In Colab\"/></a>"
      ]
    },
    {
      "cell_type": "code",
      "execution_count": null,
      "metadata": {
        "colab": {
          "base_uri": "https://localhost:8080/"
        },
        "id": "zuyMHZu7-86N",
        "outputId": "b37eb915-cd12-46aa-fa38-02e6a60c4b42"
      },
      "outputs": [
        {
          "output_type": "stream",
          "name": "stdout",
          "text": [
            "Python 3.10.12\n"
          ]
        }
      ],
      "source": [
        "!python --version\n"
      ]
    },
    {
      "cell_type": "code",
      "source": [
        "#TUESDAY 24 JUNE 2024\n",
        "# tmp=list()\n",
        "# tmp.append(2)\n",
        "# print(tmp)\n",
        "# tmp.append('may')\n",
        "# print(tmp)\n",
        "# tmp.append('ale')\n",
        "# print(tmp)\n",
        "# #print(tmp[3])\n",
        "# #aux.capitalize()\n",
        "# #print(aux)\n",
        "# #print(aux.upper())\n",
        "\n",
        "# tmp1='hello'\n",
        "# print(tmp1.capitalize())\n",
        "\n",
        "# aux1=[1,2,3,4,5,6,7,8,9,10]\n",
        "# print(aux1)\n",
        "\n",
        "# aux1[4]=10\n",
        "# print(aux1)\n",
        "\n",
        "# print(aux1[-1])\n",
        "# print(aux1[3:7])\n",
        "# print(aux1[0:5])\n",
        "# print(aux1[:5])\n",
        "\n",
        "# aux2=list()\n",
        "# for i in range(100):\n",
        "#   aux2.append(i)\n",
        "# #print(aux2[:20])\n",
        "\n",
        "# aux3=list()\n",
        "# for indx, elem in enumerate(aux2):\n",
        "#   if aux2[indx]%2==0:\n",
        "#     aux3.append(aux2[indx]**2)\n",
        "\n",
        "# print(aux3)\n",
        "\n",
        "animals=['cat', 'dog', 'monky', 'rabbit']\n",
        "for animal in animals:\n",
        "  print(animal)\n",
        "\n",
        "tmp3=[ i**2 for i in range(10)if i%2==0]\n",
        "print(tmp3)\n",
        "\n"
      ],
      "metadata": {
        "colab": {
          "base_uri": "https://localhost:8080/"
        },
        "id": "0IRw_1s2mBwZ",
        "outputId": "389ab513-ad93-4cf9-c358-72df9157dbc5"
      },
      "execution_count": 13,
      "outputs": [
        {
          "output_type": "stream",
          "name": "stdout",
          "text": [
            "cat\n",
            "dog\n",
            "monky\n",
            "rabbit\n",
            "[0, 4, 16, 36, 64]\n"
          ]
        }
      ]
    },
    {
      "cell_type": "code",
      "source": [
        "myDictionary={'cat': 'cute', 'dog' : 'big'}\n",
        "print(myDictionary['cat'])\n",
        "myDicAux={'monke': 'black', 'mouse': 'small', 'rabbit': 'white'}\n",
        "myDictionary.update(myDicAux)\n",
        "print(myDictionary)\n",
        "for key, value in myDictionary.items():\n",
        "  print(f'key : {key} value: {value}')\n",
        "\n",
        ""
      ],
      "metadata": {
        "id": "1QniKm4Dvdkr",
        "outputId": "4b838d6b-e696-42a5-cf44-6338917aa5c9",
        "colab": {
          "base_uri": "https://localhost:8080/"
        }
      },
      "execution_count": 16,
      "outputs": [
        {
          "output_type": "stream",
          "name": "stdout",
          "text": [
            "cute\n",
            "{'cat': 'cute', 'dog': 'big', 'monke': 'black', 'mouse': 'small', 'rabbit': 'white'}\n",
            "key : cat value: cute\n",
            "key : dog value: big\n",
            "key : monke value: black\n",
            "key : mouse value: small\n",
            "key : rabbit value: white\n"
          ]
        }
      ]
    }
  ]
}