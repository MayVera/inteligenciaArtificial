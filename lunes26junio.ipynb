{
  "nbformat": 4,
  "nbformat_minor": 0,
  "metadata": {
    "colab": {
      "provenance": [],
      "authorship_tag": "ABX9TyPaU1+xFwj3vWQrz/ERAHjc",
      "include_colab_link": true
    },
    "kernelspec": {
      "name": "python3",
      "display_name": "Python 3"
    },
    "language_info": {
      "name": "python"
    }
  },
  "cells": [
    {
      "cell_type": "markdown",
      "metadata": {
        "id": "view-in-github",
        "colab_type": "text"
      },
      "source": [
        "<a href=\"https://colab.research.google.com/github/MayVera/inteligenciaArtificial/blob/main/lunes26junio.ipynb\" target=\"_parent\"><img src=\"https://colab.research.google.com/assets/colab-badge.svg\" alt=\"Open In Colab\"/></a>"
      ]
    },
    {
      "cell_type": "code",
      "execution_count": null,
      "metadata": {
        "colab": {
          "base_uri": "https://localhost:8080/"
        },
        "id": "zuyMHZu7-86N",
        "outputId": "b37eb915-cd12-46aa-fa38-02e6a60c4b42"
      },
      "outputs": [
        {
          "output_type": "stream",
          "name": "stdout",
          "text": [
            "Python 3.10.12\n"
          ]
        }
      ],
      "source": [
        "!python --version\n"
      ]
    },
    {
      "cell_type": "code",
      "source": [
        "#TUESDAY 24 JUNE 2024\n",
        "# tmp=list()\n",
        "# tmp.append(2)\n",
        "# print(tmp)\n",
        "# tmp.append('may')\n",
        "# print(tmp)\n",
        "# tmp.append('ale')\n",
        "# print(tmp)\n",
        "# #print(tmp[3])\n",
        "# #aux.capitalize()\n",
        "# #print(aux)\n",
        "# #print(aux.upper())\n",
        "\n",
        "# tmp1='hello'\n",
        "# print(tmp1.capitalize())\n",
        "\n",
        "# aux1=[1,2,3,4,5,6,7,8,9,10]\n",
        "# print(aux1)\n",
        "\n",
        "# aux1[4]=10\n",
        "# print(aux1)\n",
        "\n",
        "# print(aux1[-1])\n",
        "# print(aux1[3:7])\n",
        "# print(aux1[0:5])\n",
        "# print(aux1[:5])\n",
        "\n",
        "# aux2=list()\n",
        "# for i in range(100):\n",
        "#   aux2.append(i)\n",
        "# #print(aux2[:20])\n",
        "\n",
        "# aux3=list()\n",
        "# for indx, elem in enumerate(aux2):\n",
        "#   if aux2[indx]%2==0:\n",
        "#     aux3.append(aux2[indx]**2)\n",
        "\n",
        "# print(aux3)\n",
        "\n",
        "animals=['cat', 'dog', 'monky', 'rabbit']\n",
        "for animal in animals:\n",
        "  print(animal)\n",
        "\n",
        "tmp3=[ i**2 for i in range(10)if i%2==0]\n",
        "print(tmp3)\n",
        "\n"
      ],
      "metadata": {
        "colab": {
          "base_uri": "https://localhost:8080/"
        },
        "id": "0IRw_1s2mBwZ",
        "outputId": "389ab513-ad93-4cf9-c358-72df9157dbc5"
      },
      "execution_count": null,
      "outputs": [
        {
          "output_type": "stream",
          "name": "stdout",
          "text": [
            "cat\n",
            "dog\n",
            "monky\n",
            "rabbit\n",
            "[0, 4, 16, 36, 64]\n"
          ]
        }
      ]
    },
    {
      "cell_type": "code",
      "source": [
        "myDictionary={'cat': 'cute', 'dog' : 'big'}\n",
        "print(myDictionary['cat'])\n",
        "myDicAux={'monke': 'black', 'mouse': 'small', 'rabbit': 'white'}\n",
        "myDictionary.update(myDicAux)\n",
        "print(myDictionary)\n",
        "for key, value in myDictionary.items():\n",
        "  print(f'key : {key} value: {value}')\n",
        "\n",
        "myList=[1,2,3,4,5,6]\n",
        "myDictAux1={x:x**2 for x in myList}\n",
        "print(myDictAux1)\n",
        "\n"
      ],
      "metadata": {
        "id": "1QniKm4Dvdkr",
        "outputId": "14d56a92-02a3-4e83-c705-afb0359eecf9",
        "colab": {
          "base_uri": "https://localhost:8080/"
        }
      },
      "execution_count": null,
      "outputs": [
        {
          "output_type": "stream",
          "name": "stdout",
          "text": [
            "cute\n",
            "{'cat': 'cute', 'dog': 'big', 'monke': 'black', 'mouse': 'small', 'rabbit': 'white'}\n",
            "key : cat value: cute\n",
            "key : dog value: big\n",
            "key : monke value: black\n",
            "key : mouse value: small\n",
            "key : rabbit value: white\n",
            "{1: 1, 2: 4, 3: 9, 4: 16, 5: 25, 6: 36}\n"
          ]
        }
      ]
    },
    {
      "cell_type": "code",
      "source": [
        "def suma(var1, var2, flag):\n",
        "  if flag==True:\n",
        "    tmp=var1+var2\n",
        "  else:\n",
        "    tmp=var1-var2\n",
        "  #resta\n",
        "  return tmp\n",
        "\n",
        "num1=3\n",
        "num2=7\n",
        "control=True\n",
        "print(suma(num1,num2,control))"
      ],
      "metadata": {
        "colab": {
          "base_uri": "https://localhost:8080/"
        },
        "id": "Q0LOkqZs4CuK",
        "outputId": "86dd4a74-e460-4c40-c047-d05aff6548d7"
      },
      "execution_count": null,
      "outputs": [
        {
          "output_type": "stream",
          "name": "stdout",
          "text": [
            "10\n"
          ]
        }
      ]
    },
    {
      "cell_type": "code",
      "source": [
        "listNumeros=[-1,+1,0]\n",
        "\n",
        "def numero_positivo_negativo(numero):\n",
        "    if numero >0:\n",
        "        return numero, \"positivo\"\n",
        "    elif numero <0:\n",
        "         return numero, \"negativo\"\n",
        "    else:\n",
        "        return numero, \"cero\"\n",
        "\n",
        "resultados =[numero_positivo_negativo(numero) for numero in listNumeros]\n",
        "for numero, clasificacion in resultados:\n",
        "    print(f\"El numero {numero} es {clasificacion}.\")"
      ],
      "metadata": {
        "id": "h8pEuGy-7OOR",
        "outputId": "4cb96427-b13d-4764-9663-870cfd820054",
        "colab": {
          "base_uri": "https://localhost:8080/"
        }
      },
      "execution_count": null,
      "outputs": [
        {
          "output_type": "stream",
          "name": "stdout",
          "text": [
            "El numero -1 es negativo.\n",
            "El numero 1 es positivo.\n",
            "El numero 0 es cero.\n"
          ]
        }
      ]
    },
    {
      "cell_type": "code",
      "source": [
        "#SET AS A CONTAINER 26 JUNE\n",
        "\n",
        "var1=set()\n",
        "var1.add(3)\n",
        "print(var1)\n",
        "var1.add('may')\n",
        "var1.add(True)\n",
        "print(var1)\n",
        "var1.add(5)\n",
        "print(var1)\n",
        "var1.remove('may')\n",
        "print(var1)\n",
        "\n",
        "print(len(var1))\n",
        "\n",
        "print(3 in var1)\n",
        "\n",
        "for elem in var1:\n",
        "  print(elem)"
      ],
      "metadata": {
        "colab": {
          "base_uri": "https://localhost:8080/"
        },
        "id": "rP0nCGhNw9VY",
        "outputId": "86af56a9-d373-4490-fe16-2e5138638ffc"
      },
      "execution_count": 8,
      "outputs": [
        {
          "output_type": "stream",
          "name": "stdout",
          "text": [
            "{3}\n",
            "{True, 3, 'may'}\n",
            "{True, 3, 'may', 5}\n",
            "{True, 3, 5}\n",
            "3\n",
            "True\n",
            "True\n",
            "3\n",
            "5\n"
          ]
        }
      ]
    },
    {
      "cell_type": "code",
      "source": [
        "#JUPLES\n",
        "\n",
        "var2=tuple()\n",
        "var=(1,2,3,4,5)\n",
        "print(type(var))\n",
        "aux=list(var)\n",
        "print(type(aux))\n",
        "\n",
        "aux[2]=300\n",
        "var=tuple(aux)\n",
        "print(var)\n",
        "print(type(var))\n",
        "\n",
        "\n",
        "# elemento_a_eliminar = 3\n",
        "# var_sin_elemento = tuple(x for x in var != elemento_a_eliminar)\n"
      ],
      "metadata": {
        "colab": {
          "base_uri": "https://localhost:8080/"
        },
        "id": "J17wte58zWkK",
        "outputId": "b04b5d06-d0bf-42b0-ac64-4f46d5fcdc4d"
      },
      "execution_count": 9,
      "outputs": [
        {
          "output_type": "stream",
          "name": "stdout",
          "text": [
            "<class 'tuple'>\n",
            "<class 'list'>\n",
            "(1, 2, 300, 4, 5)\n",
            "<class 'tuple'>\n"
          ]
        }
      ]
    },
    {
      "cell_type": "code",
      "source": [
        "#HOW TO DEFINE A CLASS\n",
        "\n",
        "class saludo(object):\n",
        "  def __init__(self,name):\n",
        "    print(\"El objeto ha sido creado\")\n",
        "    self.name=name\n",
        "\n",
        "  def saludoPersonal(self):\n",
        "    return f\"Hola, {self.name}\"\n",
        "\n",
        "name1=saludo('May')\n",
        "name2=saludo('Ale')\n",
        "name3=saludo('Aleja')\n",
        "\n",
        "print(name1.saludoPersonal())\n",
        "print(name2.saludoPersonal())"
      ],
      "metadata": {
        "colab": {
          "base_uri": "https://localhost:8080/"
        },
        "id": "oLwFFb7P2YvL",
        "outputId": "c661a039-72b5-46ef-d37e-65772ec144f7"
      },
      "execution_count": 17,
      "outputs": [
        {
          "output_type": "stream",
          "name": "stdout",
          "text": [
            "El objeto ha sido creado\n",
            "El objeto ha sido creado\n",
            "El objeto ha sido creado\n",
            "Hola, May\n",
            "Hola, Ale\n"
          ]
        }
      ]
    },
    {
      "cell_type": "code",
      "source": [
        "\n",
        "class Calculadora:\n",
        "    def __init__(self, radio, base, altura, lado): #Fixed the typo here, it should be __init__\n",
        "        self.radio = radio\n",
        "        self.base = base\n",
        "        self.altura = altura\n",
        "        self.lado = lado\n",
        "\n",
        "    def area_circulo(self):\n",
        "        return 3.1416 * self.radio ** 2\n",
        "\n",
        "    def area_triangulo(self):\n",
        "        return (self.base * self.altura) / 2\n",
        "\n",
        "    def area_cuadrado(self):\n",
        "      return self.lado ** 2\n",
        "\n",
        "# Example usage\n",
        "calculadora = Calculadora(8, 7, 14, 12)\n",
        "\n",
        "area_circulo = calculadora.area_circulo()\n",
        "print(\"Area del circulo:\", area_circulo)\n",
        "\n",
        "area_triangulo = calculadora.area_triangulo()\n",
        "print(\"Area del triangulo:\", area_triangulo)\n",
        "\n",
        "area_cuadrado = calculadora.area_cuadrado()\n",
        "print(\"Area del cuadrado:\", area_cuadrado)"
      ],
      "metadata": {
        "id": "q8DKQ1IX8pnb",
        "outputId": "a2889424-ffbd-4716-ceb5-2c1753642487",
        "colab": {
          "base_uri": "https://localhost:8080/"
        }
      },
      "execution_count": 25,
      "outputs": [
        {
          "output_type": "stream",
          "name": "stdout",
          "text": [
            "Area del circulo: 201.0624\n",
            "Area del triangulo: 49.0\n",
            "Area del cuadrado: 144\n"
          ]
        }
      ]
    }
  ]
}