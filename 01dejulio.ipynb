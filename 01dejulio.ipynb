{
  "nbformat": 4,
  "nbformat_minor": 0,
  "metadata": {
    "colab": {
      "provenance": [],
      "authorship_tag": "ABX9TyOAy3Cf/qD/nVbH8raCDzZC",
      "include_colab_link": true
    },
    "kernelspec": {
      "name": "python3",
      "display_name": "Python 3"
    },
    "language_info": {
      "name": "python"
    }
  },
  "cells": [
    {
      "cell_type": "markdown",
      "metadata": {
        "id": "view-in-github",
        "colab_type": "text"
      },
      "source": [
        "<a href=\"https://colab.research.google.com/github/MayVera/inteligenciaArtificial/blob/main/01dejulio.ipynb\" target=\"_parent\"><img src=\"https://colab.research.google.com/assets/colab-badge.svg\" alt=\"Open In Colab\"/></a>"
      ]
    },
    {
      "cell_type": "code",
      "execution_count": 53,
      "metadata": {
        "colab": {
          "base_uri": "https://localhost:8080/"
        },
        "id": "9sAMmGRz8dAl",
        "outputId": "e02b992a-79ff-4d67-84b0-65c5de5a1d5f"
      },
      "outputs": [
        {
          "output_type": "stream",
          "name": "stdout",
          "text": [
            "(3,)\n",
            "<class 'numpy.ndarray'>\n",
            "[11 22 33]\n",
            "22\n",
            "[11 22]\n",
            "[22 33]\n",
            "[ 11 888  33]\n"
          ]
        }
      ],
      "source": [
        "import numpy as np\n",
        "\n",
        "a=np.array([11,22,33])\n",
        "print(a.shape)\n",
        "print(type(a))\n",
        "print(a)\n",
        "\n",
        "print(a[1])\n",
        "print(a[:2])\n",
        "print(a[1:])\n",
        "a[1]=888\n",
        "print(a)"
      ]
    },
    {
      "cell_type": "code",
      "source": [
        "b=np.array([[1,2,3],[11,22,33],[111,222,333]])\n",
        "print(b.shape)\n",
        "print(type(b))\n",
        "print(b)\n",
        "print(b[1,1])\n",
        "aux=b[1:,1:]\n",
        "print(aux.shape)\n",
        "print(aux)\n",
        "\n",
        "print('BEFORE/......')\n",
        "print(b)\n",
        "print(aux)\n",
        "\n",
        "aux[1,1]=1000\n",
        "\n",
        "print('AFTER/......')\n",
        "print(b)\n",
        "print(aux)\n"
      ],
      "metadata": {
        "colab": {
          "base_uri": "https://localhost:8080/"
        },
        "id": "FHpJclV2AcLf",
        "outputId": "e96ae4ae-f151-41d6-d866-7e9c8ceb7ff2"
      },
      "execution_count": 54,
      "outputs": [
        {
          "output_type": "stream",
          "name": "stdout",
          "text": [
            "(3, 3)\n",
            "<class 'numpy.ndarray'>\n",
            "[[  1   2   3]\n",
            " [ 11  22  33]\n",
            " [111 222 333]]\n",
            "22\n",
            "(2, 2)\n",
            "[[ 22  33]\n",
            " [222 333]]\n",
            "BEFORE/......\n",
            "[[  1   2   3]\n",
            " [ 11  22  33]\n",
            " [111 222 333]]\n",
            "[[ 22  33]\n",
            " [222 333]]\n",
            "AFTER/......\n",
            "[[   1    2    3]\n",
            " [  11   22   33]\n",
            " [ 111  222 1000]]\n",
            "[[  22   33]\n",
            " [ 222 1000]]\n"
          ]
        }
      ]
    },
    {
      "cell_type": "code",
      "source": [
        "c=np.zeros((4,4))\n",
        "print(c)\n",
        "print(c.shape)\n",
        "d=np.full((4,4),9 )\n",
        "print(d.shape)\n",
        "print(d)\n"
      ],
      "metadata": {
        "colab": {
          "base_uri": "https://localhost:8080/"
        },
        "id": "jfHl4Z1kDi3G",
        "outputId": "69c73868-5cd4-4166-bbcf-f7fdfe275612"
      },
      "execution_count": 55,
      "outputs": [
        {
          "output_type": "stream",
          "name": "stdout",
          "text": [
            "[[0. 0. 0. 0.]\n",
            " [0. 0. 0. 0.]\n",
            " [0. 0. 0. 0.]\n",
            " [0. 0. 0. 0.]]\n",
            "(4, 4)\n",
            "(4, 4)\n",
            "[[9 9 9 9]\n",
            " [9 9 9 9]\n",
            " [9 9 9 9]\n",
            " [9 9 9 9]]\n"
          ]
        }
      ]
    },
    {
      "cell_type": "code",
      "source": [
        "e=np.eye(3,3)\n",
        "print(e)\n",
        "f=np.ones((4,5))\n",
        "print(f)\n",
        "\n"
      ],
      "metadata": {
        "colab": {
          "base_uri": "https://localhost:8080/"
        },
        "id": "XzOXbICCEeG-",
        "outputId": "adeb762f-3463-4dd7-8a16-b26a40c0e322"
      },
      "execution_count": 56,
      "outputs": [
        {
          "output_type": "stream",
          "name": "stdout",
          "text": [
            "[[1. 0. 0.]\n",
            " [0. 1. 0.]\n",
            " [0. 0. 1.]]\n",
            "[[1. 1. 1. 1. 1.]\n",
            " [1. 1. 1. 1. 1.]\n",
            " [1. 1. 1. 1. 1.]\n",
            " [1. 1. 1. 1. 1.]]\n"
          ]
        }
      ]
    },
    {
      "cell_type": "code",
      "source": [
        "g=np.random.random((5,5))\n",
        "print(g)"
      ],
      "metadata": {
        "colab": {
          "base_uri": "https://localhost:8080/"
        },
        "id": "9ZXtvPDOFLs9",
        "outputId": "b549ecfe-4de0-43b1-f33e-dd56ad6e55ec"
      },
      "execution_count": 57,
      "outputs": [
        {
          "output_type": "stream",
          "name": "stdout",
          "text": [
            "[[0.53884625 0.54493956 0.01743878 0.67590404 0.87212373]\n",
            " [0.87274501 0.25902263 0.18077381 0.27092831 0.2374482 ]\n",
            " [0.64239624 0.87619195 0.95775383 0.2932035  0.36906784]\n",
            " [0.96891828 0.57143601 0.67197801 0.61692991 0.25543653]\n",
            " [0.10850536 0.69031371 0.2220874  0.69703391 0.86212571]]\n"
          ]
        }
      ]
    },
    {
      "cell_type": "code",
      "source": [
        "tmp1=np.random.randint(1, 20,(4,4))\n",
        "print(tmp1)\n",
        "row=np.array([0,1,2,0])\n",
        "cols=np.arange(4)\n",
        "print(row)\n",
        "print(cols)\n",
        "\n"
      ],
      "metadata": {
        "colab": {
          "base_uri": "https://localhost:8080/"
        },
        "id": "2p54WjOGFU49",
        "outputId": "77eaf84d-b692-4c59-d458-f266bc25b62e"
      },
      "execution_count": 58,
      "outputs": [
        {
          "output_type": "stream",
          "name": "stdout",
          "text": [
            "[[16 19  2 11]\n",
            " [16 10 11 16]\n",
            " [15 18 10  8]\n",
            " [14  7  2  3]]\n",
            "[0 1 2 0]\n",
            "[0 1 2 3]\n"
          ]
        }
      ]
    },
    {
      "cell_type": "code",
      "source": [
        "tmp1[row, cols]=100\n",
        "print(tmp1)"
      ],
      "metadata": {
        "colab": {
          "base_uri": "https://localhost:8080/"
        },
        "id": "dYdIxPj7F9AG",
        "outputId": "5054e83e-e287-41fe-d97b-119169e814a3"
      },
      "execution_count": 59,
      "outputs": [
        {
          "output_type": "stream",
          "name": "stdout",
          "text": [
            "[[100  19   2 100]\n",
            " [ 16 100  11  16]\n",
            " [ 15  18 100   8]\n",
            " [ 14   7   2   3]]\n"
          ]
        }
      ]
    },
    {
      "cell_type": "code",
      "source": [
        "tmp1=np.random.randint(20, 50,(6,6))\n",
        "print(tmp1)\n"
      ],
      "metadata": {
        "colab": {
          "base_uri": "https://localhost:8080/"
        },
        "id": "nfGKySk8KceE",
        "outputId": "22c7f172-7737-4c8e-b520-1eefe2446072"
      },
      "execution_count": 61,
      "outputs": [
        {
          "output_type": "stream",
          "name": "stdout",
          "text": [
            "[[38 23 41 28 28 25]\n",
            " [41 38 29 27 42 26]\n",
            " [22 41 42 45 22 29]\n",
            " [22 42 29 30 29 29]\n",
            " [32 46 44 32 36 36]\n",
            " [48 43 46 21 43 44]]\n"
          ]
        }
      ]
    },
    {
      "cell_type": "code",
      "source": [
        "filter=(tmp1>45)\n",
        "print(filter)\n",
        "tmp2=tmp1[filter]\n",
        "print(tmp2)"
      ],
      "metadata": {
        "colab": {
          "base_uri": "https://localhost:8080/"
        },
        "id": "WamlGJTzLK1d",
        "outputId": "2ac58b8e-fd5d-4401-abaa-32b9b7d0707a"
      },
      "execution_count": 65,
      "outputs": [
        {
          "output_type": "stream",
          "name": "stdout",
          "text": [
            "[[False False False False False False]\n",
            " [False False False False False False]\n",
            " [False False False False False False]\n",
            " [False False False False False False]\n",
            " [False  True False False False False]\n",
            " [ True False  True False False False]]\n",
            "[46 48 46]\n"
          ]
        }
      ]
    },
    {
      "cell_type": "code",
      "source": [
        "filter_impares= tmp1 % 2 !=1\n",
        "print(filter_impares)\n",
        "tmp3=tmp1[filter_impares]\n",
        "print(tmp3)"
      ],
      "metadata": {
        "colab": {
          "base_uri": "https://localhost:8080/"
        },
        "id": "WQ1PlfKANHsM",
        "outputId": "8208af26-7e92-4360-f562-3934ef0f2faf"
      },
      "execution_count": 69,
      "outputs": [
        {
          "output_type": "stream",
          "name": "stdout",
          "text": [
            "[[ True False False  True  True False]\n",
            " [False  True False False  True  True]\n",
            " [ True False  True False  True False]\n",
            " [ True  True False  True False False]\n",
            " [ True  True  True  True  True  True]\n",
            " [ True False  True False False  True]]\n",
            "[38 28 28 38 42 26 22 42 22 22 42 30 32 46 44 32 36 36 48 46 44]\n"
          ]
        }
      ]
    },
    {
      "cell_type": "code",
      "source": [
        "tmp3=np.array([1,2,3,4,5,])\n",
        "print(tmp3.dtype)\n",
        "tmp3=np.array([1,2,3,4,5],dtype=np.float64)\n",
        "print(tmp3.dtype)"
      ],
      "metadata": {
        "colab": {
          "base_uri": "https://localhost:8080/"
        },
        "id": "S_XncXaMOeqT",
        "outputId": "5b584c1b-e1e0-424e-aea4-77ae1db73a35"
      },
      "execution_count": 72,
      "outputs": [
        {
          "output_type": "stream",
          "name": "stdout",
          "text": [
            "int64\n",
            "float64\n"
          ]
        }
      ]
    }
  ]
}